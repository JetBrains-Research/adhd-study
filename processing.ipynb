{
 "cells": [
  {
   "cell_type": "code",
   "execution_count": null,
   "outputs": [],
   "source": [
    "USER_PATH = 'sources'"
   ],
   "metadata": {
    "collapsed": false
   }
  },
  {
   "cell_type": "code",
   "execution_count": null,
   "metadata": {
    "collapsed": true
   },
   "outputs": [],
   "source": [
    "import pandas as pd\n",
    "from preprocessor import Preprocessor\n",
    "from pathlib import Path"
   ]
  },
  {
   "cell_type": "code",
   "execution_count": null,
   "outputs": [],
   "source": [
    "data = []\n",
    "def update_keys(old_dict: dict, new_key: str) -> dict:\n",
    "    return {f'{new_key}_{key}': val for key, val in old_dict.items()}\n",
    "\n",
    "\n",
    "def merge_dicts(dicts: list) -> dict:\n",
    "    result = {}\n",
    "    result.update(update_keys(dicts[0], 'C_1'))\n",
    "    result.update(update_keys(dicts[1], 'C_2'))\n",
    "    result.update(update_keys(dicts[2], 'D_1'))\n",
    "    result.update(update_keys(dicts[3], 'D_2'))\n",
    "    return result\n",
    "\n",
    "user_folders = [f for f in Path(USER_PATH).glob(\"*/\") if f.is_dir()]\n",
    "\n",
    "for user_path in user_folders:\n",
    "    p = Preprocessor(user_path)\n",
    "    p.read_tasks()\n",
    "    res = {}\n",
    "    res.update(p.get_user_info())\n",
    "    task_features = [p.calculate_features(task) for task in p.tasks]\n",
    "    res.update(merge_dicts(task_features))\n",
    "    print(f'processed {user_path.name}')\n",
    "    data.append(res)\n",
    "\n",
    "dataset = pd.DataFrame(data)\n",
    "dataset.to_csv(\"data/dataset.csv\")"
   ],
   "metadata": {
    "collapsed": false
   }
  }
 ],
 "metadata": {
  "kernelspec": {
   "display_name": "Python 3",
   "language": "python",
   "name": "python3"
  },
  "language_info": {
   "codemirror_mode": {
    "name": "ipython",
    "version": 2
   },
   "file_extension": ".py",
   "mimetype": "text/x-python",
   "name": "python",
   "nbconvert_exporter": "python",
   "pygments_lexer": "ipython2",
   "version": "2.7.6"
  }
 },
 "nbformat": 4,
 "nbformat_minor": 0
}
